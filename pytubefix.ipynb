{
 "cells": [
  {
   "cell_type": "markdown",
   "id": "030e582c",
   "metadata": {},
   "source": [
    "#Purpose#\n",
    "Learn how to use pytubefix to download youtube videos using python\n",
    "\n",
    "#Source#\n",
    "https://github.com/JuanBindez/pytubefix#\n",
    "\n",
    "#Installation#\n",
    "- Python\n",
    "- pip install pytubefix"
   ]
  },
  {
   "cell_type": "markdown",
   "id": "2c7918ec",
   "metadata": {},
   "source": [
    "# Basic Download"
   ]
  },
  {
   "cell_type": "code",
   "execution_count": null,
   "id": "e4c31a3c",
   "metadata": {},
   "outputs": [
    {
     "name": "stdout",
     "output_type": "stream",
     "text": [
      "Google’s AI Course for Beginners (in 10 minutes)!\n",
      "Downloaded Google’s AI Course for Beginners (in 10 minutes)! to downloads\n",
      "Done!\n"
     ]
    }
   ],
   "source": [
    "from pytubefix import YouTube\n",
    "from pytubefix.cli import on_progress\n",
    "\n",
    "url = \"https://www.youtube.com/watch?v=Yq0QkCxoTHM\"\n",
    "outdir = \"downloads\"\n",
    "\n",
    "yt = YouTube(url, on_progress_callback=on_progress)\n",
    "print(yt.title)\n",
    "\n",
    "ys = yt.streams.get_highest_resolution()\n",
    "ys.download(output_path=outdir)\n",
    "print(f\"Downloaded {ys.title} to {outdir}\")\n",
    "print(\"Done!\")"
   ]
  },
  {
   "cell_type": "markdown",
   "id": "27da7f97",
   "metadata": {},
   "source": [
    "# Download Audio-Only (.m4a)"
   ]
  },
  {
   "cell_type": "code",
   "execution_count": 3,
   "id": "8fbad09b",
   "metadata": {},
   "outputs": [
    {
     "name": "stdout",
     "output_type": "stream",
     "text": [
      "G.E.M. - 泡沫\n",
      "Downloaded G.E.M. - 泡沫 to downloads█████████████| 100.0%\n",
      "Done!\n"
     ]
    }
   ],
   "source": [
    "from pytubefix import YouTube\n",
    "from pytubefix.cli import on_progress\n",
    "\n",
    "url = \"https://www.youtube.com/watch?v=GHXr4bBxHCo\"\n",
    "outdir = \"downloads\"\n",
    "\n",
    "yt = YouTube(url, on_progress_callback=on_progress)\n",
    "print(yt.title)\n",
    "\n",
    "ys = yt.streams.get_audio_only()\n",
    "ys.download(output_path=outdir)\n",
    "print(f\"Downloaded {ys.title} to {outdir}\")\n",
    "print(\"Done!\")"
   ]
  },
  {
   "cell_type": "markdown",
   "id": "e18e9f07",
   "metadata": {},
   "source": [
    "# Subtitles"
   ]
  },
  {
   "cell_type": "code",
   "execution_count": null,
   "id": "6e59f672",
   "metadata": {},
   "outputs": [],
   "source": [
    "from pytubefix import YouTube\n",
    "\n",
    "url = 'http://youtube.com/watch?v=2lAe1cqCOXo'\n",
    "outpath = \"downloads/caption.txt\"\n",
    "\n",
    "yt = YouTube(url)\n",
    "\n",
    "# View available subtitles\n",
    "print(yt.captions)\n",
    "\n",
    "# Print subtitle tracks\n",
    "caption = yt.captions['en']\n",
    "print(caption.generate_srt_captions())\n",
    "\n",
    "caption.save_captions(outpath)"
   ]
  },
  {
   "cell_type": "markdown",
   "id": "77a9544b",
   "metadata": {},
   "source": [
    "# Search Videos"
   ]
  },
  {
   "cell_type": "code",
   "execution_count": 11,
   "id": "4d3c8343",
   "metadata": {},
   "outputs": [
    {
     "name": "stdout",
     "output_type": "stream",
     "text": [
      "Title: Good Practices with GitHub Issues\n",
      "URL: https://youtube.com/watch?v=v1AeHaopAYE\n",
      "Duration: 406 sec\n",
      "---\n",
      "Title: Do you know the best way to manage GitHub Issues?\n",
      "URL: https://youtube.com/watch?v=OccRyzAS4Vc\n",
      "Duration: 534 sec\n",
      "---\n",
      "Title: Git and GitHub Tutorials #5 - Understanding GitHub Issues\n",
      "URL: https://youtube.com/watch?v=TKJ4RdhyB5Y\n",
      "Duration: 397 sec\n",
      "---\n",
      "Title: 10 GitHub Best Practices for repository management\n",
      "URL: https://youtube.com/watch?v=VvgoOgWFiZY\n",
      "Duration: 599 sec\n",
      "---\n",
      "Title: How Git Works: Explained in 4 Minutes\n",
      "URL: https://youtube.com/watch?v=e9lnsKot_SQ\n",
      "Duration: 258 sec\n",
      "---\n",
      "Title: Write git commit messages like a PRO with Conventional Commits\n",
      "URL: https://youtube.com/watch?v=OJqUWvmf4gg\n",
      "Duration: 248 sec\n",
      "---\n",
      "Title: Issues and Projects in GitHub\n",
      "URL: https://youtube.com/watch?v=fFrq28RY1SQ\n",
      "Duration: 912 sec\n",
      "---\n",
      "Title: Using Projects for feature planning\n",
      "URL: https://youtube.com/watch?v=yFQ-p6wMS_Y\n",
      "Duration: 193 sec\n",
      "---\n",
      "Title: Collaborative Data Engineering with Git\n",
      "URL: https://youtube.com/watch?v=ay-9khvah3Y\n",
      "Duration: 3765 sec\n",
      "---\n",
      "Title: Managing a GitHub Organization: Tools, Tips, and Best Practices - Mark Matyas\n",
      "URL: https://youtube.com/watch?v=1T4HAPBFbb0\n",
      "Duration: 1525 sec\n",
      "---\n",
      "Title: Contributing to Open Source Can Change Your Life - Here’s How to Do It\n",
      "URL: https://youtube.com/watch?v=CML6vfKjQss\n",
      "Duration: 197 sec\n",
      "---\n",
      "Title: GitHub Security Best Practices - GitHub Universe 2015\n",
      "URL: https://youtube.com/watch?v=0MQihfI_OMA\n",
      "Duration: 1999 sec\n",
      "---\n",
      "Title: How to use GIT when working with a team?\n",
      "URL: https://youtube.com/watch?v=jhtbhSpV5YA\n",
      "Duration: 736 sec\n",
      "---\n",
      "Title: Git for Beginners: Best Practices for Teams (Part 7)\n",
      "URL: https://youtube.com/watch?v=Hd_BMpn4sBA\n",
      "Duration: 661 sec\n",
      "---\n",
      "Title: Git MERGE vs REBASE: Everything You Need to Know\n",
      "URL: https://youtube.com/watch?v=0chZFIZLR_0\n",
      "Duration: 274 sec\n",
      "---\n",
      "Title: Git for Professionals Tutorial - Tools & Concepts for Mastering Version Control with Git\n",
      "URL: https://youtube.com/watch?v=Uszj_k0DGsg\n",
      "Duration: 2442 sec\n",
      "---\n",
      "Title: How GitHub Actions 10x my productivity\n",
      "URL: https://youtube.com/watch?v=yfBtjLxn_6k\n",
      "Duration: 498 sec\n",
      "---\n",
      "Title: 13 Advanced (but useful) Git Techniques and Shortcuts\n",
      "URL: https://youtube.com/watch?v=ecK3EnyGD8o\n",
      "Duration: 486 sec\n",
      "---\n",
      "Title: Understanding GitHub Flow and Best Practices\n",
      "URL: https://youtube.com/watch?v=3nTqvbvebtY\n",
      "Duration: 2858 sec\n",
      "---\n",
      "Title: GIT 3 Branching Strategy | Github and GitLab Branching Strategy | Must know for all engineers\n",
      "URL: https://youtube.com/watch?v=KKByv7JyzOw\n",
      "Duration: 951 sec\n",
      "---\n"
     ]
    }
   ],
   "source": [
    "# Basic search\n",
    "from pytubefix import Search\n",
    "\n",
    "results = Search('GitHub Issue Best Practices')\n",
    "for video in results.videos:\n",
    "    print(f'Title: {video.title}')\n",
    "    print(f'URL: {video.watch_url}')\n",
    "    print(f'Duration: {video.length} sec')\n",
    "    print('---')"
   ]
  },
  {
   "cell_type": "code",
   "execution_count": 13,
   "id": "f2458b48",
   "metadata": {},
   "outputs": [
    {
     "name": "stdout",
     "output_type": "stream",
     "text": [
      "https://youtube.com/watch?v=YyETVGvO64c - RD x CS - Cocaine 'N\" T*ts [Music Video] | P110 (184 sec)\n",
      "https://youtube.com/watch?v=TwnWxpfoQyY - Mafia Wins | Brutal Drops Riddim Dubstep 2025 | Brutal Drops Riddim Dubstep (11 sec)\n",
      "https://youtube.com/watch?v=-q_gT7YmoX0 - Trub - Went Legit Remix ( Official Music Video ) (141 sec)\n",
      "https://youtube.com/watch?v=v815Ilmqk04 - Do Lafzon || Full Music Video || KSD Records || Baba KSD * Punjabi Song | Pamposh and Asif * 2025 * (198 sec)\n",
      "https://youtube.com/watch?v=v6SfM1I0WGs - 🎧 2025 BEATBOX STYLE CLUB EDM |🔥 Noraebang Bounce 🔥Top Popular Remix Songs #music #beatbox (176 sec)\n",
      "https://youtube.com/watch?v=jLwcC5RuDc8 - This Song Was Born From Getting Ignored Again and Again (14 sec)\n"
     ]
    },
    {
     "name": "stderr",
     "output_type": "stream",
     "text": [
      "ANDROID_VR client returned: This video is not available\n",
      "Switching to client: TV\n"
     ]
    },
    {
     "name": "stdout",
     "output_type": "stream",
     "text": [
      "https://youtube.com/watch?v=V2JLoGylINU - Trupa Planeta Clounella - Luci Soare Luci (32 sec)\n",
      "https://youtube.com/watch?v=JkfoU__1IHA - Mora vaana BY AM (calm music) (180 sec)\n",
      "https://youtube.com/watch?v=b3ba0N6PmPQ - Joey Mayhem - Thug Cry (Official Music Video) Shot by #ctfilms (223 sec)\n",
      "https://youtube.com/watch?v=jKuq2OgeS8Q - Juuggyy - No Prince Charmers (Music Video) | Mixtape Madness (170 sec)\n",
      "https://youtube.com/watch?v=_roPCAoALzw - Reggae Legend in the Making: Buju Banton Early Days Captured Live in Jamaica #Music #Shorts (142 sec)\n",
      "https://youtube.com/watch?v=nFl4fm3mUMM - Happy background music for videos | Royalty free music [No copyright] (239 sec)\n",
      "https://youtube.com/watch?v=PXpAbt4GM3c - B Sting - Manny's Best Secret [Music Video] | P110 (131 sec)\n",
      "https://youtube.com/watch?v=dWoTrzUWSdU - Whispers Through the Rain (19 sec)\n",
      "https://youtube.com/watch?v=wvLQ6rtwP5o - TheFatRat & Shiah Maisel - Genius (xFran Remix) (196 sec)\n",
      "https://youtube.com/watch?v=gd7lpENRU2o - I never told you this before…. (46 sec)\n",
      "https://youtube.com/watch?v=vT8Hjk70I94 - Learn Take The A Train (20 sec)\n",
      "https://youtube.com/watch?v=8BsE8XS1w1I - Chained Legacy | Rap Type Beat 2025 🎹🔥 86 BPM | FlowFriday | Free2Use - Uso Libre (227 sec)\n",
      "https://youtube.com/watch?v=cYIibfTAWP8 - @LRAoficial1 - Ganas de Besarte ( Auido Oficial ) (213 sec)\n"
     ]
    },
    {
     "name": "stderr",
     "output_type": "stream",
     "text": [
      "ANDROID_VR client returned: This video is not available\n",
      "Switching to client: TV\n"
     ]
    },
    {
     "name": "stdout",
     "output_type": "stream",
     "text": [
      "https://youtube.com/watch?v=SyRAozRdrik - Jesus Is the Light I See ✨ [Official Song Teaser] | Toddler Songs About Jesus | TuneVille Tales (44 sec)\n"
     ]
    }
   ],
   "source": [
    "# Use filters\n",
    "from pytubefix.contrib.search import Search, Filter\n",
    "\n",
    "filters = {\n",
    "    'upload_date': Filter.get_upload_date('Today'),\n",
    "    'type': Filter.get_type(\"Video\"),\n",
    "    'duration': Filter.get_duration(\"Under 4 minutes\"),\n",
    "    'features': [Filter.get_features(\"4K\"), Filter.get_features(\"Creative Commons\")],\n",
    "    'sort_by': Filter.get_sort_by(\"Upload date\")\n",
    "}\n",
    "\n",
    "s = Search('music', filters=filters)\n",
    "for video in s.videos:\n",
    "    print(f\"{video.watch_url} - {video.title} ({video.length} sec)\")"
   ]
  }
 ],
 "metadata": {
  "kernelspec": {
   "display_name": "base",
   "language": "python",
   "name": "python3"
  },
  "language_info": {
   "codemirror_mode": {
    "name": "ipython",
    "version": 3
   },
   "file_extension": ".py",
   "mimetype": "text/x-python",
   "name": "python",
   "nbconvert_exporter": "python",
   "pygments_lexer": "ipython3",
   "version": "3.12.3"
  }
 },
 "nbformat": 4,
 "nbformat_minor": 5
}
