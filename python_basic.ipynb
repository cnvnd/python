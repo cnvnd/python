{
 "cells": [
  {
   "cell_type": "markdown",
   "id": "e1bd0896",
   "metadata": {},
   "source": [
    "# Data Type"
   ]
  },
  {
   "cell_type": "code",
   "execution_count": 26,
   "id": "9eb8daeb",
   "metadata": {},
   "outputs": [
    {
     "name": "stdout",
     "output_type": "stream",
     "text": [
      "integer is of type <class 'int'> with value 123\n",
      "float_number is of type <class 'float'> with value 123.456\n",
      "string is of type <class 'str'> with value 'Hello, World!'\n",
      "boolean is of type <class 'bool'> with value True\n",
      "list_of_integers is of type <class 'list'> with value [1, 2, 3, 4, 5]\n",
      "dict_of_strings is of type <class 'dict'> with value {'key1': 'value1', 'key2': 'value2'}\n",
      "tuple_of_mixed is of type <class 'tuple'> with value (1, 'two', 3.0)\n",
      "set_of_floats is of type <class 'set'> with value {1.1, 2.2, 3.3}\n",
      "list_of_integers is of type <class 'list'> with value [1, 2, 3, 4, 5]\n",
      "dict_of_strings is of type <class 'dict'> with value {'key1': 'value1', 'key2': 'value2'}\n",
      "tuple_of_mixed is of type <class 'tuple'> with value (1, 'two', 3.0)\n",
      "set_of_floats is of type <class 'set'> with value {1.1, 2.2, 3.3}\n",
      "x is of type <class 'list'> with value [3, 5, 'test', 'fun']\n",
      "x is of type <class 'str'> with value str | None (Python 3.10+)\n",
      "STR | NONE (PYTHON 3.10+)\n"
     ]
    }
   ],
   "source": [
    "# Basic types\n",
    "integer: int = 123\n",
    "float_number: float = 123.456\n",
    "string: str = \"Hello, World!\"\n",
    "boolean: bool = True\n",
    "\n",
    "print(f\"integer is of type {type(integer)} with value {integer}\")\n",
    "print(f\"float_number is of type {type(float_number)} with value {float_number}\")\n",
    "print(f\"string is of type {type(string)} with value '{string}'\")\n",
    "print(f\"boolean is of type {type(boolean)} with value {boolean}\")\n",
    "\n",
    "\n",
    "# Collection types with type hints (before Python 3.9)\n",
    "from typing import List, Dict, Tuple, Set\n",
    "\n",
    "list_of_integers: List[int] = [1, 2, 3, 4, 5]\n",
    "dict_of_strings: Dict[str, str] = {\"key1\": \"value1\", \"key2\": \"value2\"}\n",
    "tuple_of_mixed: Tuple[int, str, float] = (1, \"two\", 3.0)\n",
    "set_of_floats: Set[float] = {1.1, 2.2, 3.3}\n",
    "\n",
    "print(f\"list_of_integers is of type {type(list_of_integers)} with value {list_of_integers}\")\n",
    "print(f\"dict_of_strings is of type {type(dict_of_strings)} with value {dict_of_strings}\")\n",
    "print(f\"tuple_of_mixed is of type {type(tuple_of_mixed)} with value {tuple_of_mixed}\")\n",
    "print(f\"set_of_floats is of type {type(set_of_floats)} with value {set_of_floats}\")\n",
    "\n",
    "# Collection types with type hints (Python 3.9+)\n",
    "list_of_integers: list[int] = [1, 2, 3, 4, 5]\n",
    "dict_of_strings: dict[str, str] = {\"key1\": \"value1\", \"key2\": \"value2\"}\n",
    "tuple_of_mixed: tuple[int, str, float] = (1, \"two\", 3.0)\n",
    "set_of_floats: set[float] = {1.1, 2.2, 3.3}\n",
    "\n",
    "print(f\"list_of_integers is of type {type(list_of_integers)} with value {list_of_integers}\")\n",
    "print(f\"dict_of_strings is of type {type(dict_of_strings)} with value {dict_of_strings}\")\n",
    "print(f\"tuple_of_mixed is of type {type(tuple_of_mixed)} with value {tuple_of_mixed}\")\n",
    "print(f\"set_of_floats is of type {type(set_of_floats)} with value {set_of_floats}\")\n",
    "\n",
    "\n",
    "# On Python 3.10+, use the | operator when something could be one of a few types\n",
    "x: list[int | str] = [3, 5, \"test\", \"fun\"]  # Python 3.10+\n",
    "print(f\"x is of type {type(x)} with value {x}\")\n",
    "\n",
    "# Use X | None for a value that could be None on Python 3.10+\n",
    "x: str | None = \"str | None (Python 3.10+)\" if True else None\n",
    "print(f\"x is of type {type(x)} with value {x}\")\n",
    "if x is not None:\n",
    "    # x won't be None here because of the if-statement\n",
    "    print(x.upper())\n",
    "\n",
    "# Type hints for variables that can be multiple types\n",
    "from typing import Union, Optional\n",
    "\n",
    "# On earlier versions, use Union\n",
    "x: list[Union[int, str]] = [3, 5, \"test\", \"fun\"]\n",
    "\n",
    "# Use Optional[X] on Python 3.9 and earlier; Optional[X] is the same as 'X | None'\n",
    "x: Optional[str] = \"Optional[str] (Python 3.9 and earlier)\" if False else None\n",
    "if x is not None:\n",
    "    print(x.upper())\n"
   ]
  },
  {
   "cell_type": "markdown",
   "id": "522bad94",
   "metadata": {},
   "source": [
    "# Functions"
   ]
  },
  {
   "cell_type": "code",
   "execution_count": 30,
   "id": "cf6ff8b3",
   "metadata": {},
   "outputs": [
    {
     "name": "stdout",
     "output_type": "stream",
     "text": [
      "to_string(123) returns '123' of type <class 'str'>\n",
      "f(2) returns 5.140000000000001 of type <class 'float'>\n",
      "x is a Callable with type <class 'function'> and value '123'\n",
      "Error: can only concatenate str (not \"float\") to str\n",
      "example\n"
     ]
    }
   ],
   "source": [
    "# Basic function\n",
    "def to_string(num: int) -> str:\n",
    "    return str(num)\n",
    "print(f\"to_string(123) returns '{to_string(123)}' of type {type(to_string(123))}\")\n",
    "\n",
    "# Function with default argument\n",
    "def f(x: int, y: float = 3.14) -> float:\n",
    "    return x + y\n",
    "print(f\"f(2) returns {f(2)} of type {type(f(2))}\")\n",
    "\n",
    "# Sample of annotating callable objects\n",
    "from collections.abc import Callable\n",
    "\n",
    "x: Callable[[int], str] = to_string # good\n",
    "print(f\"x is a Callable with type {type(x)} and value '{x(123)}'\")\n",
    "\n",
    "x: Callable[[str], str] = f  # bad, because f takes two arguments\n",
    "try:\n",
    "    print(x(\"test\"))  # This will raise an error because f expects an int, not a str\n",
    "except TypeError as e:\n",
    "    print(f\"Error: {e}\")\n",
    "\n",
    "def print_from_callable(callback: Callable[[int], str], i: int = 0) -> None:\n",
    "    print(callback(\"example\"))\n",
    "print_from_callable(to_string)  # Ok, to_string matches the signature\n",
    "\n",
    "# Sample of annotating a generator (specifically Iterator in this case) function\n",
    "from collections.abc import Iterator\n",
    "def gen(n: int) -> Iterator[int]:\n",
    "    i = 0\n",
    "    while i < n:\n",
    "        yield i\n",
    "        i += 1\n"
   ]
  },
  {
   "cell_type": "markdown",
   "id": "903c95da",
   "metadata": {},
   "source": [
    "# Classes"
   ]
  },
  {
   "cell_type": "code",
   "execution_count": 31,
   "id": "0f345dbc",
   "metadata": {},
   "outputs": [],
   "source": [
    "class Animal:\n",
    "    def __init__(self, name: str = \"Animal\"):\n",
    "        self.name = name\n",
    "\n",
    "    def speak(self) -> str:\n",
    "        return f\"{self.name} makes a sound.\"\n",
    "    \n",
    "class Dog(Animal):\n",
    "    def __init__(self, name: str = \"Dog\"):\n",
    "        super().__init__(name)\n",
    "\n",
    "    def speak(self) -> str:\n",
    "        return f\"{self.name} barks.\"\n",
    "\n",
    "class Cat(Animal):\n",
    "    def __init__(self, name: str = \"Cat\"):\n",
    "        super().__init__(name)\n",
    "\n",
    "    def speak(self) -> str:\n",
    "        return f\"{self.name} meows.\"\n",
    "\n",
    "def animal_sound(animal: Animal) -> str:\n",
    "    return animal.speak()\n",
    "\n",
    "assert animal_sound(Dog(\"Buddy\")) == \"Buddy barks.\"\n",
    "assert animal_sound(Cat(\"Whiskers\")) == \"Whiskers meows.\"\n"
   ]
  },
  {
   "cell_type": "markdown",
   "id": "74e2175a",
   "metadata": {},
   "source": [
    "# Lambda"
   ]
  },
  {
   "cell_type": "code",
   "execution_count": 33,
   "id": "e111fa2b",
   "metadata": {},
   "outputs": [
    {
     "name": "stdout",
     "output_type": "stream",
     "text": [
      "lambda_function(5) returns 'Number: 5' of type <class 'str'>\n",
      "Processed numbers: ['Number: 1', 'Number: 2', 'Number: 3'] of type <class 'list'>\n"
     ]
    }
   ],
   "source": [
    "from typing import Callable\n",
    "\n",
    "# Lambda example\n",
    "lambda_function: Callable[[int], str] = lambda x: f\"Number: {x}\"\n",
    "print(f\"lambda_function(5) returns '{lambda_function(5)}' of type {type(lambda_function(5))}\")\n",
    "\n",
    "# Type hinting with lambda functions\n",
    "def process_numbers(numbers: list[int], func: Callable[[int], str]) -> list[str]:\n",
    "    return [func(num) for num in numbers]\n",
    "\n",
    "numbers = [1, 2, 3]\n",
    "processed_numbers = process_numbers(numbers, lambda_function)\n",
    "print(f\"Processed numbers: {processed_numbers} of type {type(processed_numbers)}\")"
   ]
  },
  {
   "cell_type": "markdown",
   "id": "3ea31327",
   "metadata": {},
   "source": [
    "# OS module"
   ]
  },
  {
   "cell_type": "code",
   "execution_count": 19,
   "id": "b3395ea7",
   "metadata": {},
   "outputs": [
    {
     "name": "stdout",
     "output_type": "stream",
     "text": [
      "Working directory: c:\\Users\\User\\vsc\\Jupyter\n",
      "Current directory: .\n",
      "List files in working directory (c:\\Users\\User\\vsc\\Jupyter):\n",
      ".git\n",
      "conda.ipynb\n",
      "markdown.ipynb\n",
      "python_basic.ipynb\n",
      "pytube.ipynb\n",
      "pytubefix.ipynb\n",
      "test.ipynb\n",
      "This notebook file exec: C:\\Users\\User\\AppData\\Local\\Temp\\ipykernel_17496\\1486257187.py\n",
      "This notebook file: conda.ipynb\n",
      "Content of conda.ipynb:\n",
      "{\n",
      " \"cells\": [\n",
      "  {\n",
      "   \"cell_type\": \"markdown\",\n",
      "   \"id\": \"bb3fa2ba\",\n",
      "   \"metadata\": {},\n",
      "   \"source\": [\n",
      "    \"#Doc page#\\n\",\n",
      "    \"https://docs.conda.io/projects/conda/en/stable/user-guide/getting-started.html\\n\",\n",
      "    \"\\n\",\n",
      "    \"#Quick Tutorial#\\n\",\n",
      "    \"https://www.youtube.com/watch?v=sDCtY9Z1bqE&pp=ygUJI2RuYWNvbmRh\\n\",\n",
      "    \"\\n\",\n",
      "    \"#Requirement#\\n\",\n",
      "    \"- Install conda\\n\",\n",
      "    \"- Create new env (the whole purpose of using conda)\\n\",\n",
      "    \"- > conda install pip\\n\",\n",
      "    \"- > pip install <package>\\n...\n"
     ]
    }
   ],
   "source": [
    "import os\n",
    "import inspect\n",
    "\n",
    "# Print the current working directory\n",
    "print(f\"Working directory: {os.getcwd()}\")\n",
    "\n",
    "# Print the current directory\n",
    "print(f\"Current directory: {os.curdir}\")\n",
    "\n",
    "# List all files and directories in the current directory\n",
    "files = os.listdir(os.getcwd())\n",
    "print(f\"List files in working directory ({os.getcwd()}):{'\\n'}{'\\n'.join(files)}\")\n",
    "\n",
    "# Find the current notebook file\n",
    "this_notebook_py = inspect.getfile(lambda: None)\n",
    "print(f\"This notebook file exec: {this_notebook_py}\")\n",
    "\n",
    "notebook = filter(lambda x: x.endswith('.ipynb'), files)\n",
    "if notebook:\n",
    "    notebook = list(notebook)[0]\n",
    "    print(f\"This notebook file: {notebook}\")\n",
    "\n",
    "    # Print the content of a notebook file\n",
    "    with open(notebook, 'r') as f:\n",
    "        content = f.read()\n",
    "    print(f\"Content of {notebook}:\\n{content[:500]}...\")  # Print first 500 characters\n"
   ]
  }
 ],
 "metadata": {
  "kernelspec": {
   "display_name": "base",
   "language": "python",
   "name": "python3"
  },
  "language_info": {
   "codemirror_mode": {
    "name": "ipython",
    "version": 3
   },
   "file_extension": ".py",
   "mimetype": "text/x-python",
   "name": "python",
   "nbconvert_exporter": "python",
   "pygments_lexer": "ipython3",
   "version": "3.12.3"
  }
 },
 "nbformat": 4,
 "nbformat_minor": 5
}
