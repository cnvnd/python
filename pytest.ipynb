{
 "cells": [
  {
   "cell_type": "markdown",
   "id": "ee760c0f",
   "metadata": {},
   "source": [
    "# Purpose\n",
    "Demo the common usage of pytest, which is a popular testing framework in python\n",
    "\n",
    "# Source\n",
    "https://docs.pytest.org/"
   ]
  },
  {
   "cell_type": "markdown",
   "id": "44642600",
   "metadata": {},
   "source": [
    "# Basic Assertions"
   ]
  },
  {
   "cell_type": "code",
   "execution_count": 13,
   "id": "d77169ea",
   "metadata": {},
   "outputs": [
    {
     "name": "stdout",
     "output_type": "stream",
     "text": [
      "\u001b[1m======================================= test session starts =======================================\u001b[0m\n",
      "platform win32 -- Python 3.12.3, pytest-7.4.4, pluggy-1.0.0 -- c:\\ProgramData\\anaconda3\\python.exe\n",
      "cachedir: .pytest_cache\n",
      "rootdir: c:\\Users\\User\\vsc\\python\\python\n",
      "plugins: anyio-4.2.0, typeguard-4.3.0\n",
      "\u001b[1mcollecting ... \u001b[0mcollected 2 items\n",
      "\n",
      "t_814ee0cf26e74f6bbcad4c3aca257975.py::test_f_returns_1 \u001b[32mPASSED\u001b[0m\u001b[32m                               [ 50%]\u001b[0m\n",
      "t_814ee0cf26e74f6bbcad4c3aca257975.py::test_f_does_not_return_2 \u001b[32mPASSED\u001b[0m\u001b[32m                       [100%]\u001b[0m\n",
      "\n",
      "\u001b[32m======================================== \u001b[32m\u001b[1m2 passed\u001b[0m\u001b[32m in 0.04s\u001b[0m\u001b[32m ========================================\u001b[0m\n"
     ]
    },
    {
     "data": {
      "text/plain": [
       "<ExitCode.OK: 0>"
      ]
     },
     "execution_count": 13,
     "metadata": {},
     "output_type": "execute_result"
    }
   ],
   "source": [
    "import pytest, ipytest\n",
    "\n",
    "# Enable ipytest to run pytest tests in Jupyter notebooks\n",
    "ipytest.autoconfig()\n",
    "ipytest.clean()\n",
    "\n",
    "def f():\n",
    "    return 1\n",
    "\n",
    "# Test that the function returns 1\n",
    "def test_f_returns_1():\n",
    "    print(\"Running test_f_returns_1\")\n",
    "    assert f() == 1\n",
    "\n",
    "# Test that the function does not return 2\n",
    "def test_f_does_not_return_2():\n",
    "    print(\"Running test_f_does_not_return_2\")\n",
    "    with pytest.raises(AssertionError):\n",
    "        assert f() == 2\n",
    "\n",
    "ipytest.run('-vv')\n"
   ]
  },
  {
   "cell_type": "markdown",
   "id": "ae16099e",
   "metadata": {},
   "source": [
    "# Fixtures"
   ]
  },
  {
   "cell_type": "code",
   "execution_count": 28,
   "id": "755cf149",
   "metadata": {},
   "outputs": [
    {
     "name": "stdout",
     "output_type": "stream",
     "text": [
      "\u001b[1m======================================= test session starts =======================================\u001b[0m\n",
      "platform win32 -- Python 3.12.3, pytest-7.4.4, pluggy-1.0.0 -- c:\\ProgramData\\anaconda3\\python.exe\n",
      "cachedir: .pytest_cache\n",
      "rootdir: c:\\Users\\User\\vsc\\python\\python\n",
      "plugins: mock-3.14.1, anyio-4.2.0, typeguard-4.3.0\n",
      "\u001b[1mcollecting ... \u001b[0mcollected 6 items\n",
      "\n",
      "t_814ee0cf26e74f6bbcad4c3aca257975.py::test_using_test_fixture \u001b[32mPASSED\u001b[0m\u001b[32m                        [ 16%]\u001b[0m\n",
      "t_814ee0cf26e74f6bbcad4c3aca257975.py::test_incremented_fixture \u001b[32mPASSED\u001b[0m\u001b[32m                       [ 33%]\u001b[0m\n",
      "t_814ee0cf26e74f6bbcad4c3aca257975.py::test_multiple_fixtures \u001b[32mPASSED\u001b[0m\u001b[32m                         [ 50%]\u001b[0m\n",
      "t_814ee0cf26e74f6bbcad4c3aca257975.py::test_eval[3+5-8] \u001b[32mPASSED\u001b[0m\u001b[32m                               [ 66%]\u001b[0m\n",
      "t_814ee0cf26e74f6bbcad4c3aca257975.py::test_eval[2+4-6] \u001b[32mPASSED\u001b[0m\u001b[32m                               [ 83%]\u001b[0m\n",
      "t_814ee0cf26e74f6bbcad4c3aca257975.py::test_eval[6*9-54] \u001b[32mPASSED\u001b[0m\u001b[32m                              [100%]\u001b[0m\n",
      "\n",
      "\u001b[32m======================================== \u001b[32m\u001b[1m6 passed\u001b[0m\u001b[32m in 0.07s\u001b[0m\u001b[32m ========================================\u001b[0m\n"
     ]
    },
    {
     "data": {
      "text/plain": [
       "<ExitCode.OK: 0>"
      ]
     },
     "execution_count": 28,
     "metadata": {},
     "output_type": "execute_result"
    }
   ],
   "source": [
    "import pytest, ipytest\n",
    "\n",
    "# Enable ipytest to run pytest tests in Jupyter notebooks\n",
    "ipytest.autoconfig()\n",
    "ipytest.clean()\n",
    "\n",
    "def f():\n",
    "    return 1\n",
    "\n",
    "# Use pytest.fixture to create test case\n",
    "@pytest.fixture\n",
    "def test_fixture():\n",
    "    return f()\n",
    "\n",
    "# Test that the fixture returns the function f\n",
    "def test_using_test_fixture(test_fixture):\n",
    "    print(f\"Running test_using_test_fixture with fixture that returns {test_fixture}\")\n",
    "    assert test_fixture == 1\n",
    "\n",
    "# fixture can use another fixture\n",
    "@pytest.fixture\n",
    "def incremented_fixture(test_fixture):\n",
    "    return test_fixture + 1\n",
    "\n",
    "# Test that the incremented fixture returns 2\n",
    "def test_incremented_fixture(incremented_fixture):\n",
    "    print(f\"Running test_incremented_fixture with incremented value {incremented_fixture}\")\n",
    "    assert incremented_fixture == 2\n",
    "\n",
    "# Test more than one fixture\n",
    "def test_multiple_fixtures(test_fixture, incremented_fixture):\n",
    "    print(f\"Running test_multiple_fixtures with test_fixture {test_fixture} and incremented_fixture {incremented_fixture}\")\n",
    "    assert test_fixture == 1\n",
    "    assert incremented_fixture == 2\n",
    "\n",
    "# Test parametrized fixture\n",
    "@pytest.mark.parametrize(\"test_input,expected\", [(\"3+5\", 8), (\"2+4\", 6), (\"6*9\", 54)])\n",
    "def test_eval(test_input, expected):\n",
    "    assert eval(test_input) == expected\n",
    "\n",
    "ipytest.run('-vv')\n"
   ]
  },
  {
   "cell_type": "markdown",
   "id": "ae6d6bec",
   "metadata": {},
   "source": [
    "# Mocker\n",
    "The samples below uses pytest-mock as a light wrapper around unittest.mock.\n",
    "\n",
    "`pip install pytest-mock`"
   ]
  },
  {
   "cell_type": "code",
   "execution_count": 26,
   "id": "fab13a9c",
   "metadata": {},
   "outputs": [
    {
     "name": "stdout",
     "output_type": "stream",
     "text": [
      "Defaulting to user installation because normal site-packages is not writeable\n",
      "Requirement already satisfied: pytest-mock in c:\\users\\user\\appdata\\roaming\\python\\python312\\site-packages (3.14.1)\n",
      "Requirement already satisfied: pytest>=6.2.5 in c:\\programdata\\anaconda3\\lib\\site-packages (from pytest-mock) (7.4.4)\n",
      "Requirement already satisfied: iniconfig in c:\\programdata\\anaconda3\\lib\\site-packages (from pytest>=6.2.5->pytest-mock) (1.1.1)\n",
      "Requirement already satisfied: packaging in c:\\programdata\\anaconda3\\lib\\site-packages (from pytest>=6.2.5->pytest-mock) (24.1)\n",
      "Requirement already satisfied: pluggy<2.0,>=0.12 in c:\\programdata\\anaconda3\\lib\\site-packages (from pytest>=6.2.5->pytest-mock) (1.0.0)\n",
      "Requirement already satisfied: colorama in c:\\programdata\\anaconda3\\lib\\site-packages (from pytest>=6.2.5->pytest-mock) (0.4.6)\n",
      "Note: you may need to restart the kernel to use updated packages.\n",
      "\u001b[1m======================================= test session starts =======================================\u001b[0m\n",
      "platform win32 -- Python 3.12.3, pytest-7.4.4, pluggy-1.0.0 -- c:\\ProgramData\\anaconda3\\python.exe\n",
      "cachedir: .pytest_cache\n",
      "rootdir: c:\\Users\\User\\vsc\\python\\python\n",
      "plugins: mock-3.14.1, anyio-4.2.0, typeguard-4.3.0\n",
      "\u001b[1mcollecting ... \u001b[0mcollected 2 items\n",
      "\n",
      "t_814ee0cf26e74f6bbcad4c3aca257975.py::test_mocker \u001b[32mPASSED\u001b[0m\u001b[32m                                    [ 50%]\u001b[0m\n",
      "t_814ee0cf26e74f6bbcad4c3aca257975.py::test_spy \u001b[32mPASSED\u001b[0m\u001b[32m                                       [100%]\u001b[0m\n",
      "\n",
      "\u001b[32m======================================== \u001b[32m\u001b[1m2 passed\u001b[0m\u001b[32m in 0.06s\u001b[0m\u001b[32m ========================================\u001b[0m\n"
     ]
    },
    {
     "data": {
      "text/plain": [
       "<ExitCode.OK: 0>"
      ]
     },
     "execution_count": 26,
     "metadata": {},
     "output_type": "execute_result"
    }
   ],
   "source": [
    "%pip install pytest-mock\n",
    "import pytest, ipytest\n",
    "from unittest.mock import MagicMock\n",
    "\n",
    "# Enable ipytest to run pytest tests in Jupyter notebooks\n",
    "ipytest.autoconfig()\n",
    "ipytest.clean()\n",
    "\n",
    "class OriginalClass:\n",
    "    def method(self):\n",
    "        return \"original\"\n",
    "\n",
    "def test_mocker(mocker):\n",
    "    original = OriginalClass()\n",
    "    mock_func = mocker.patch.object(original, \"method\", return_value=\"mocked\")\n",
    "    result = original.method()\n",
    "    assert result == \"mocked\"\n",
    "    mock_func.assert_called_once()\n",
    "\n",
    "def test_spy(mocker):\n",
    "    original = OriginalClass()\n",
    "    spy_func = mocker.spy(original, 'method')\n",
    "\n",
    "    assert original.method() == \"original\"\n",
    "    # Check that the spy captured the call\n",
    "    assert spy_func.call_count == 1\n",
    "    # Check the return value of the spy\n",
    "    assert spy_func.spy_return == \"original\"\n",
    "    # Ensure the spy was called only once\n",
    "    spy_func.assert_called_once()\n",
    "\n",
    "ipytest.run('-vv')\n"
   ]
  }
 ],
 "metadata": {
  "kernelspec": {
   "display_name": "base",
   "language": "python",
   "name": "python3"
  },
  "language_info": {
   "codemirror_mode": {
    "name": "ipython",
    "version": 3
   },
   "file_extension": ".py",
   "mimetype": "text/x-python",
   "name": "python",
   "nbconvert_exporter": "python",
   "pygments_lexer": "ipython3",
   "version": "3.12.3"
  }
 },
 "nbformat": 4,
 "nbformat_minor": 5
}
