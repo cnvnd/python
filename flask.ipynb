{
 "cells": [
  {
   "cell_type": "markdown",
   "id": "7160340e",
   "metadata": {},
   "source": [
    "# Purpose\n",
    "Learn how to use Flask, a micro web framework in Python\n",
    "\n",
    "# Source\n",
    "https://flask.palletsprojects.com/en/stable/quickstart/#routing\n",
    "\n",
    "# Requirements\n",
    "Install flask:\n",
    "- pip install flask or conda install flask"
   ]
  },
  {
   "cell_type": "code",
   "execution_count": null,
   "id": "3ef318fc",
   "metadata": {},
   "outputs": [
    {
     "name": "stdout",
     "output_type": "stream",
     "text": [
      "/\n",
      "/status\n",
      "/string/example\n",
      "/integer/42\n",
      "/float/3.14\n",
      "/path/some/path/here\n",
      "/uuid/6b91529c-9a0a-4378-83c8-4d9225442bab\n",
      " * Serving Flask app '__main__'\n",
      " * Debug mode: off\n"
     ]
    },
    {
     "name": "stderr",
     "output_type": "stream",
     "text": [
      "WARNING: This is a development server. Do not use it in a production deployment. Use a production WSGI server instead.\n",
      " * Running on http://127.0.0.1:5000\n",
      "Press CTRL+C to quit\n"
     ]
    }
   ],
   "source": [
    "from flask import Flask, jsonify, url_for, request, redirect\n",
    "import uuid\n",
    "\n",
    "app = Flask(__name__)\n",
    "\n",
    "@app.route('/')\n",
    "def index():\n",
    "    return redirect(url_for('status'))\n",
    "\n",
    "@app.route('/status', methods=['GET'])\n",
    "def status():\n",
    "    return jsonify({\"status\": \"running\"}), 200\n",
    "\n",
    "# use string variable for the route\n",
    "@app.route('/string/<string>', methods=['GET'])\n",
    "def show_string(string):\n",
    "    return jsonify({\"received_string\": string}), 200\n",
    "\n",
    "# use integer variable for the route\n",
    "@app.route('/integer/<int:number>', methods=['GET'])\n",
    "def show_integer(number):\n",
    "    return jsonify({\"received_integer\": number}), 200\n",
    "\n",
    "# use float variable for the route\n",
    "@app.route('/float/<float:number>', methods=['GET'])\n",
    "def show_float(number):\n",
    "    return jsonify({\"received_float\": number}), 200\n",
    "\n",
    "# use path variable for the route\n",
    "@app.route('/path/<path:subpath>', methods=['GET'])\n",
    "def show_path(subpath):\n",
    "    return jsonify({\"received_path\": subpath}), 200\n",
    "\n",
    "# use uuid variable for the route\n",
    "@app.route('/uuid/<uuid:uid>', methods=['GET'])\n",
    "def show_uuid(uid):\n",
    "    return jsonify({\"received_uuid\": str(uid)}), 200\n",
    "\n",
    "@app.route('/login', methods=['POST'])\n",
    "def login():\n",
    "    error = None\n",
    "    # Check if username and password are provided\n",
    "    if request.form['username'] and request.form['password']:\n",
    "        return jsonify({\"message\": \"Login successful\"}), 200\n",
    "    else:\n",
    "        error = \"Username and password are required\"\n",
    "        return jsonify({\"error\": error}), 400\n",
    "\n",
    "@app.route('/upload', methods=['POST'])\n",
    "def upload_file():\n",
    "    if 'file' not in request.files:\n",
    "        return jsonify({\"error\": \"No file part in the request\"}), 400\n",
    "\n",
    "    f = request.files['file']\n",
    "    if f:\n",
    "        f.save(f\"./uploads/{f.filename}\")\n",
    "        return jsonify({\"message\": \"File uploaded successfully\"}), 200\n",
    "    else:\n",
    "        return jsonify({\"error\": \"No file provided\"}), 400\n",
    "\n",
    "@app.errorhandler(404)\n",
    "def not_found(error):\n",
    "    return jsonify({\"error\": \"Not Found\"}), 404\n",
    "\n",
    "with app.test_request_context():\n",
    "    print(url_for('index'))  # URL for the index route\n",
    "    print(url_for('status'))  # URL for the status route\n",
    "    print(url_for('show_string', string='example'))  # URL for the string route\n",
    "    print(url_for('show_integer', number=42))  # URL for the integer route\n",
    "    print(url_for('show_float', number=3.14))  # URL for the float route\n",
    "    print(url_for('show_path', subpath='some/path/here'))  # URL for the path route\n",
    "    print(url_for('show_uuid', uid=uuid.uuid4()))  # URL for the uuid route\n",
    "\n",
    "if __name__ == '__main__':\n",
    "    app.run(port=5000)"
   ]
  }
 ],
 "metadata": {
  "kernelspec": {
   "display_name": "base",
   "language": "python",
   "name": "python3"
  },
  "language_info": {
   "codemirror_mode": {
    "name": "ipython",
    "version": 3
   },
   "file_extension": ".py",
   "mimetype": "text/x-python",
   "name": "python",
   "nbconvert_exporter": "python",
   "pygments_lexer": "ipython3",
   "version": "3.12.3"
  }
 },
 "nbformat": 4,
 "nbformat_minor": 5
}
