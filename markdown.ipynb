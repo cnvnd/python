{
 "cells": [
  {
   "cell_type": "markdown",
   "id": "37118b1b",
   "metadata": {},
   "source": [
    "# Purposes\n",
    "A collection of common markdown syntax\n",
    "\n",
    "# Source\n",
    "https://www.markdownguide.org/cheat-sheet/\n",
    "https://www.markdownguide.org/basic-syntax/\n",
    "\n",
    "\n",
    "# Heading H1\n",
    "## Heading H2\n",
    "### Heading H3\n",
    "**Bold text**\n",
    "\n",
    "*italicized text*\n",
    "\n",
    "> blockquote\n",
    "\n",
    "1. Order list item 1\n",
    "2. Order list item 2\n",
    "\n",
    "- Unordered list item 1\n",
    "- Unordered list item 2\n",
    "\n",
    "`code`\n",
    "\n",
    "Horizontal Rule\n",
    "\n",
    "---\n",
    "\n",
    "[Link](https://www.google.com)\n",
    "\n",
    "![Image](https://user-images.githubusercontent.com/6876788/96633009-d1818000-1318-11eb-9f1d-7f914f4ccb16.gif)\n",
    "\n",
    "| Table Header 1 | Table Header 2 |\n",
    "| --- | --- |\n",
    "| Item 1 | Item 2 |\n",
    "\n",
    "```\n",
    "\\\\ Fenced Code Block\n",
    "{\n",
    "    \"firstName\": \"John\",\n",
    "    \"lastName\": \"Smith\",\n",
    "    \"age\": 25\n",
    "}\n",
    "```\n",
    "\n",
    "Emoji is unicode string and can be copy & paste from https://emojipedia.org/  😂\n",
    "\n",
    "Jupyter Task list not supported in vscode unless [Markdown Checkbox Extension](https://marketplace.visualstudio.com/items?itemName=bierner.markdown-checkbox) is added\n",
    "- [x] Selected task list 1\n",
    "- [ ] Task list 2\n",
    "\n",
    "== Highlight =="
   ]
  },
  {
   "cell_type": "code",
   "execution_count": 1,
   "id": "2f1aa16d",
   "metadata": {},
   "outputs": [
    {
     "name": "stdout",
     "output_type": "stream",
     "text": [
      "Hello World!\n"
     ]
    }
   ],
   "source": [
    "# Code goes here\n",
    "print(\"Hello World!\")"
   ]
  }
 ],
 "metadata": {
  "kernelspec": {
   "display_name": "base",
   "language": "python",
   "name": "python3"
  },
  "language_info": {
   "codemirror_mode": {
    "name": "ipython",
    "version": 3
   },
   "file_extension": ".py",
   "mimetype": "text/x-python",
   "name": "python",
   "nbconvert_exporter": "python",
   "pygments_lexer": "ipython3",
   "version": "3.12.3"
  }
 },
 "nbformat": 4,
 "nbformat_minor": 5
}
