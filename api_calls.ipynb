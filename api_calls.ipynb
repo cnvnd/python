{
 "cells": [
  {
   "cell_type": "markdown",
   "id": "da461bc7",
   "metadata": {},
   "source": [
    "# Purpose\n",
    "Sample code to use request / response pair"
   ]
  },
  {
   "cell_type": "code",
   "execution_count": 4,
   "id": "e419b8b4",
   "metadata": {},
   "outputs": [
    {
     "name": "stdout",
     "output_type": "stream",
     "text": [
      "{\"status\":\"running\"}\n",
      "\n"
     ]
    }
   ],
   "source": [
    "import requests\n",
    "\n",
    "# This script tests a Flask application running on localhost at port 5000.  See flask.ipynb for the Flask app code.\n",
    "url = 'http://127.0.0.1:5000/status'\n",
    "\n",
    "def test_flask_app():\n",
    "    response = requests.get(url)\n",
    "    assert response.status_code == 200\n",
    "    assert response.json() == {'status': 'running'}\n",
    "    print(response.text)\n",
    "\n",
    "test_flask_app()"
   ]
  }
 ],
 "metadata": {
  "kernelspec": {
   "display_name": "base",
   "language": "python",
   "name": "python3"
  },
  "language_info": {
   "codemirror_mode": {
    "name": "ipython",
    "version": 3
   },
   "file_extension": ".py",
   "mimetype": "text/x-python",
   "name": "python",
   "nbconvert_exporter": "python",
   "pygments_lexer": "ipython3",
   "version": "3.12.3"
  }
 },
 "nbformat": 4,
 "nbformat_minor": 5
}
